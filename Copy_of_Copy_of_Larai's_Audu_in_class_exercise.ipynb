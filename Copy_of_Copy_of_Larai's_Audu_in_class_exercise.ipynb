{
  "nbformat": 4,
  "nbformat_minor": 0,
  "metadata": {
    "colab": {
      "name": "Copy of Copy of Larai's Audu in class exercise",
      "provenance": [],
      "collapsed_sections": [],
      "include_colab_link": true
    },
    "kernelspec": {
      "name": "python3",
      "display_name": "Python 3"
    }
  },
  "cells": [
    {
      "cell_type": "markdown",
      "metadata": {
        "id": "view-in-github",
        "colab_type": "text"
      },
      "source": [
        "<a href=\"https://colab.research.google.com/github/Larai15/kubernetes/blob/master/Copy_of_Copy_of_Larai's_Audu_in_class_exercise.ipynb\" target=\"_parent\"><img src=\"https://colab.research.google.com/assets/colab-badge.svg\" alt=\"Open In Colab\"/></a>"
      ]
    },
    {
      "cell_type": "code",
      "metadata": {
        "id": "osBc5s7nKrKF",
        "colab_type": "code",
        "outputId": "2d0ba7b3-73b4-4a49-fdbe-a1e078685722",
        "colab": {
          "base_uri": "https://localhost:8080/",
          "height": 34
        }
      },
      "source": [
        "name = \"execrise\"\n",
        "length = len(name)\n",
        "print (length)"
      ],
      "execution_count": 0,
      "outputs": [
        {
          "output_type": "stream",
          "text": [
            "8\n"
          ],
          "name": "stdout"
        }
      ]
    },
    {
      "cell_type": "markdown",
      "metadata": {
        "id": "Ohop6XjELFO-",
        "colab_type": "text"
      },
      "source": [
        "\n"
      ]
    },
    {
      "cell_type": "code",
      "metadata": {
        "id": "hWojtRRFLMFL",
        "colab_type": "code",
        "outputId": "a68be0dc-9133-4bc7-992c-249b18f0aa7e",
        "colab": {
          "base_uri": "https://localhost:8080/",
          "height": 34
        }
      },
      "source": [
        "text = \"google.com\"\n",
        "result = {}\n",
        "for c in text:\n",
        "   result [c]=text.count(c)\n",
        "print(result)\n"
      ],
      "execution_count": 0,
      "outputs": [
        {
          "output_type": "stream",
          "text": [
            "{'g': 2, 'o': 3, 'l': 1, 'e': 1, '.': 1, 'c': 1, 'm': 1}\n"
          ],
          "name": "stdout"
        }
      ]
    },
    {
      "cell_type": "code",
      "metadata": {
        "id": "LmtV8gHLLOHq",
        "colab_type": "code",
        "outputId": "924f6246-d7db-4304-967c-a8b215569031",
        "colab": {
          "base_uri": "https://localhost:8080/",
          "height": 34
        }
      },
      "source": [
        "items = [1,4,5]\n",
        "print(sum(items))"
      ],
      "execution_count": 0,
      "outputs": [
        {
          "output_type": "stream",
          "text": [
            "10\n"
          ],
          "name": "stdout"
        }
      ]
    },
    {
      "cell_type": "code",
      "metadata": {
        "id": "UWbAZp3KLRu-",
        "colab_type": "code",
        "outputId": "05edc35a-ba98-4c05-e787-b938d18da475",
        "colab": {
          "base_uri": "https://localhost:8080/",
          "height": 34
        }
      },
      "source": [
        "text =\"emergency\"\n",
        "replaced = text [1:]. replace(text[0], \"$\")\n",
        "print (text[0] + replaced)"
      ],
      "execution_count": 0,
      "outputs": [
        {
          "output_type": "stream",
          "text": [
            "em$rg$ncy\n"
          ],
          "name": "stdout"
        }
      ]
    },
    {
      "cell_type": "code",
      "metadata": {
        "id": "JqEr91yDLVSs",
        "colab_type": "code",
        "outputId": "e76edd28-ae9f-48eb-9519-958d04af8579",
        "colab": {
          "base_uri": "https://localhost:8080/",
          "height": 34
        }
      },
      "source": [
        "def s(a,b):\n",
        "  step1 = (a  / b) + 1\n",
        "  step2 = 3.14 * pow (step1, 3)\n",
        "  return step2\n",
        "print (s(5,2))\n"
      ],
      "execution_count": 0,
      "outputs": [
        {
          "output_type": "stream",
          "text": [
            "134.6275\n"
          ],
          "name": "stdout"
        }
      ]
    },
    {
      "cell_type": "code",
      "metadata": {
        "id": "EFeczZrFL7Ot",
        "colab_type": "code",
        "colab": {}
      },
      "source": [
        "dic1={1:10, 2:20}\n",
        "dic2={3:30, 4:40}\n",
        "dic3={5:50, 6:60}\n",
        "combined ={**dic1,**dic2,**dic3}\n",
        "print(combined)\n"
      ],
      "execution_count": 0,
      "outputs": []
    },
    {
      "cell_type": "code",
      "metadata": {
        "id": "T4coFL77L-tK",
        "colab_type": "code",
        "outputId": "1be70b32-58e3-4ca3-da01-02a39a3b56b1",
        "colab": {
          "base_uri": "https://localhost:8080/",
          "height": 34
        }
      },
      "source": [
        "dic1={1:10, 2:20}\n",
        "dic2={3:30, 4:40}\n",
        "dic3={5:50, 6:60}\n",
        "combined ={**dic1,**dic2,**dic3}\n",
        "print(combined)\n"
      ],
      "execution_count": 0,
      "outputs": [
        {
          "output_type": "stream",
          "text": [
            "{1: 10, 2: 20, 3: 30, 4: 40, 5: 50, 6: 60}\n"
          ],
          "name": "stdout"
        }
      ]
    },
    {
      "cell_type": "code",
      "metadata": {
        "id": "xOZGOnzvMgNS",
        "colab_type": "code",
        "colab": {}
      },
      "source": [
        ""
      ],
      "execution_count": 0,
      "outputs": []
    },
    {
      "cell_type": "code",
      "metadata": {
        "id": "2ozEYA5TMDQg",
        "colab_type": "code",
        "outputId": "f50723fc-b5fb-4f47-9f1a-5788c9f37ea3",
        "colab": {
          "base_uri": "https://localhost:8080/",
          "height": 51
        }
      },
      "source": [
        "s = (5,20,14)\n",
        "maximum = max(s)\n",
        "minimum = min(s)\n",
        "print (maximum)\n",
        "print (minimum)"
      ],
      "execution_count": 0,
      "outputs": [
        {
          "output_type": "stream",
          "text": [
            "20\n",
            "5\n"
          ],
          "name": "stdout"
        }
      ]
    },
    {
      "cell_type": "code",
      "metadata": {
        "id": "U9l4GehrMhx-",
        "colab_type": "code",
        "outputId": "2990e611-69b7-472e-e0e1-85ab97cd6a5a",
        "colab": {
          "base_uri": "https://localhost:8080/",
          "height": 85
        }
      },
      "source": [
        "import random\n",
        "student_list = ['sa0753','laa0240','lba0043','pb0283','vmb0067','vcd0017','ag1121','lg0426','mj0396','ak0860','vk0222','vk0216', 'tpk0023','nk0327','mk0830','tbl0041','al0787','am1823','sm1515','km0738','hn0139','an0521','ap0975','dp1080', 'pk0292','vp0241','rp0477','hr0178','ps0501','ss1976','ss1872','ss1872','bs0490','pt0218','ry0104']\n",
        "for i in range(4):\n",
        "  sampling = random.choices(student_list, k=7)\n",
        "  student_list = [i for i in student_list if i not in sampling ]\n",
        "  print(\"Group\" +str(i+1)+\": \", sampling)"
      ],
      "execution_count": 0,
      "outputs": [
        {
          "output_type": "stream",
          "text": [
            "Group1:  ['al0787', 'ag1121', 'ap0975', 'mk0830', 'ss1872', 'pb0283', 'laa0240']\n",
            "Group2:  ['tbl0041', 'nk0327', 'vk0222', 'ak0860', 'sm1515', 'hn0139', 'tpk0023']\n",
            "Group3:  ['hr0178', 'vp0241', 'am1823', 'rp0477', 'mj0396', 'ps0501', 'vk0216']\n",
            "Group4:  ['lg0426', 'dp1080', 'vmb0067', 'bs0490', 'ry0104', 'an0521', 'pt0218']\n"
          ],
          "name": "stdout"
        }
      ]
    },
    {
      "cell_type": "code",
      "metadata": {
        "id": "37iDNSf_cfdk",
        "colab_type": "code",
        "colab": {}
      },
      "source": [
        ""
      ],
      "execution_count": 0,
      "outputs": []
    }
  ]
}