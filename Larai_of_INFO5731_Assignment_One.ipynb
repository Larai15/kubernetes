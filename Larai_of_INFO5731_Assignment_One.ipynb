{
  "nbformat": 4,
  "nbformat_minor": 0,
  "metadata": {
    "colab": {
      "name": "Copy of INFO5731_Assignment_One.ipynb",
      "provenance": [],
      "collapsed_sections": [],
      "include_colab_link": true
    },
    "kernelspec": {
      "name": "python3",
      "display_name": "Python 3"
    }
  },
  "cells": [
    {
      "cell_type": "markdown",
      "metadata": {
        "id": "view-in-github",
        "colab_type": "text"
      },
      "source": [
        "<a href=\"https://colab.research.google.com/github/Larai15/kubernetes/blob/master/Larai_of_INFO5731_Assignment_One.ipynb\" target=\"_parent\"><img src=\"https://colab.research.google.com/assets/colab-badge.svg\" alt=\"Open In Colab\"/></a>"
      ]
    },
    {
      "cell_type": "markdown",
      "metadata": {
        "id": "Ryk8D1Q4Wsrp",
        "colab_type": "text"
      },
      "source": [
        "# **INFO5731 Assignment One**"
      ]
    },
    {
      "cell_type": "markdown",
      "metadata": {
        "id": "90_NR8c5XGWc",
        "colab_type": "text"
      },
      "source": [
        "# Question 1\n",
        "\n",
        "(20 points). Write a Python program to generate 12 random numbers between 1 and 100. Sort the list of numbers in ascending order and print it out. Sort the list of numbers in descending order and print it out. Calculate the average for the group and print it out."
      ]
    },
    {
      "cell_type": "code",
      "metadata": {
        "id": "5QX6bJjGWXY9",
        "colab_type": "code",
        "outputId": "1b77dd5a-f9b5-4313-8e9c-25516191bda5",
        "colab": {
          "base_uri": "https://localhost:8080/",
          "height": 51
        }
      },
      "source": [
        "# Your code here\n",
        "from random import randrange\n",
        "r = [ randrange(1,100) for i in range(12)]\n",
        "print(sorted(r))\n",
        "average = sum(r)/len(r)\n",
        "print(f\"Average: {average}\")\n",
        "\n"
      ],
      "execution_count": 0,
      "outputs": [
        {
          "output_type": "stream",
          "text": [
            "[8, 14, 27, 38, 44, 46, 58, 61, 65, 88, 92, 92]\n",
            "Average: 52.75\n"
          ],
          "name": "stdout"
        }
      ]
    },
    {
      "cell_type": "markdown",
      "metadata": {
        "id": "1F_PZdH9Sh49",
        "colab_type": "text"
      },
      "source": [
        "# Question 2\n",
        "(25 points). Write a program that will do the following string formatting tasks:\n",
        "\n",
        "(1) Ask the user to enter two sentences.\n",
        "\n",
        "(2) Make each sentence into a list. Each element in the list should correspond to a word in the sentence. For example, if the sentence is \"Alas! Am I alive? This is my first python program\", the program should print out ['Alas, '!', 'Am', 'I', 'alive, '?', 'This', 'is', 'my', 'first', 'python', 'program'].\n",
        "\n",
        "(3) Compare the two sentences. Print out a list of words that occur in both sentences.\n",
        "\n",
        "(4) Remove any punctuation from the sentence and print it back out. It should remove at least the following characters, but it can remove more: period(“.”), comma (“,”), semicolon (“;”), and colon (“:”)\n",
        "\n",
        "(5) Count the number of vowels in the sentences. Print out each vowel and the number of times it appears in the sentences, such as: a:2, e:1, i:0, etc"
      ]
    },
    {
      "cell_type": "code",
      "metadata": {
        "id": "Y0oOSlsOS0cq",
        "colab_type": "code",
        "outputId": "18e1b22c-9375-4c2f-de9d-486af81cddde",
        "colab": {
          "base_uri": "https://localhost:8080/",
          "height": 272
        }
      },
      "source": [
        "import re, string\n",
        "firstSentence = input(\"First Sentence: \")\n",
        "secondSentence = input(\"Second Sentence: \")\n",
        "#1\n",
        "print(firstSentence)\n",
        "print(secondSentence)\n",
        "\n",
        "#2\n",
        "firstList = re.findall(r\"[\\w']+|[.,!?;]\", firstSentence)\n",
        "secondList =  re.findall(r\"[\\w']+|[.,!?;]\", secondSentence)  \n",
        "print(firstList)\n",
        "print(secondList)\n",
        "\n",
        "#3\n",
        "commonList = list(set(firstList).intersection(secondList))\n",
        "print(\"Common To Both:\")\n",
        "print(commonList)\n",
        "#4\n",
        "translator=str.maketrans('','',string.punctuation)\n",
        "firstWithoutPunc = firstSentence.translate(translator)\n",
        "secondWithoutPunc = secondSentence.translate(translator)\n",
        "print(\"Without punctuation:\")\n",
        "print(firstWithoutPunc)\n",
        "print(secondWithoutPunc)\n",
        "\n",
        "#5\n",
        "vowels=\"aeiou\"\n",
        "sentenceVowels = {}\n",
        "for x in firstSentence.lower():\n",
        "  if x in vowels:\n",
        "    if x in sentenceVowels.keys():\n",
        "        sentenceVowels[x] += 1\n",
        "    else:\n",
        "      sentenceVowels[x] = 1\n",
        "print(\"First Sentence Vowels:\")     \n",
        "print(sentenceVowels)\n",
        "\n",
        "\n",
        "sentenceVowels = {}\n",
        "for x in secondSentence.lower():\n",
        "  if x in vowels:\n",
        "    if x in sentenceVowels.keys():\n",
        "        sentenceVowels[x] += 1\n",
        "    else:\n",
        "      sentenceVowels[x] = 1\n",
        "print(\"Second Sentence Vowels:\")     \n",
        "print(sentenceVowels)\n",
        "\n"
      ],
      "execution_count": 0,
      "outputs": [
        {
          "output_type": "stream",
          "text": [
            "First Sentence: This is love\n",
            "Second Sentence: love is good\n",
            "This is love\n",
            "love is good\n",
            "['This', 'is', 'love']\n",
            "['love', 'is', 'good']\n",
            "Common To Both:\n",
            "['love', 'is']\n",
            "Without punctuation:\n",
            "This is love\n",
            "love is good\n",
            "First Sentence Vowels:\n",
            "{'i': 2, 'o': 1, 'e': 1}\n",
            "Second Sentence Vowels:\n",
            "{'o': 3, 'e': 1, 'i': 1}\n"
          ],
          "name": "stdout"
        }
      ]
    },
    {
      "cell_type": "markdown",
      "metadata": {
        "id": "CmFoI4jDS9nx",
        "colab_type": "text"
      },
      "source": [
        "# Question 3 \n",
        "\n",
        "(15 points). The formula that describes the volume V of a sphere with radius r is the following:\n",
        "\n",
        "$ V=\\frac{4}{3}\\ast\\ \\pi\\ast\\ r^3 $\n",
        "\n",
        "Write a program to calculate the value of V when r is in the range of 1–10. Output the result in the following format:\n",
        "\n",
        "\tr\tV\n",
        "\t1\t…\n",
        "\t2\t…\n",
        "\t3\t…\n"
      ]
    },
    {
      "cell_type": "code",
      "metadata": {
        "id": "pEyqeioAT95b",
        "colab_type": "code",
        "outputId": "4f9f8dad-8d79-4470-c2a5-37ed5ce3fa65",
        "colab": {
          "base_uri": "https://localhost:8080/",
          "height": 221
        }
      },
      "source": [
        "# Your code here\n",
        "from tabulate import tabulate\n",
        "import math\n",
        "r=range(1,11)\n",
        "volume = []\n",
        "table = []\n",
        "for i in r:\n",
        "  v = (4 * math.pi * pow(i,3))/3\n",
        "  v = \"{0:.2f}\".format(v)\n",
        "  volume.append(v)\n",
        "  table.append([i,v])\n",
        "print(tabulate(table, headers=['r', 'v'], stralign=\"left\"))\n",
        "\n"
      ],
      "execution_count": 0,
      "outputs": [
        {
          "output_type": "stream",
          "text": [
            "  r        v\n",
            "---  -------\n",
            "  1     4.19\n",
            "  2    33.51\n",
            "  3   113.1\n",
            "  4   268.08\n",
            "  5   523.6\n",
            "  6   904.78\n",
            "  7  1436.76\n",
            "  8  2144.66\n",
            "  9  3053.63\n",
            " 10  4188.79\n"
          ],
          "name": "stdout"
        }
      ]
    },
    {
      "cell_type": "code",
      "metadata": {
        "id": "pMCr3l8tnu0j",
        "colab_type": "code",
        "colab": {}
      },
      "source": [
        ""
      ],
      "execution_count": 0,
      "outputs": []
    },
    {
      "cell_type": "markdown",
      "metadata": {
        "id": "z3tBE7E-Xn5X",
        "colab_type": "text"
      },
      "source": [
        "# Question 4\n",
        "\n",
        "(40 points). In the field of Data Science, data is often formatted as a comma-delimited (CSV) file, where each line in a file corresponds to a field's value. Refer to Chapter 9 (p. 106) for more information on comma-delimited files. To answer this question, you will need to download the file [Assignment1_denton_housing.csv](https://github.com/unt-iialab/INFO5731_Spring2020/blob/master/Assignments/Assignment1_denton_housing.csv) included with this assignment. The [file Assignment1_denton_housing.csv](https://github.com/unt-iialab/INFO5731_Spring2020/blob/master/Assignments/Assignment1_denton_housing.csv) contains statistics about housing in the city of Denton from 2008 to 2014. Write a program to implement the following questions.\n",
        "\n",
        "(1) (10 pts) Calculate the difference in the number of Occupied Housing Units from year to year and print it. The difference must be calculated for the consecutive years such as 2008-2009, 2009-2010 etc. Finally, print the values in the ascending order.\n",
        "\n",
        "(2) (10 pts) For all the years, calculate the percentage of housing units which are vacant an occupied. Print the results in the following format:\n",
        "\n",
        "Year Vacant Housing Units Occupied Housing Units\n",
        "\n",
        "    2008  30%   70%                          \n",
        "\t2009 ----- -----\n",
        "\t2010 ----- -----\n",
        "    2011 ----- -----\n",
        "\t2012 ----- -----\n",
        "    2013 ----- -----\n",
        "\t2014 ----- -----\n",
        "  \n",
        "  \n",
        "\n",
        "(3) (10 pts) Calculate and print the valued and years in which the highest number of housing units were vacant and occupied. Print the results in the following format:  \n",
        "\n",
        "                              Year\tValue\n",
        "\tVacant Housing Units\t  -----   -----\n",
        "\tOccupied Housing Units\t-----   -----\n",
        "\n",
        "(4) (10 pts) Calculate the harmonic mean of the total housing units and print it out. You can find the information about harmonic mean here: https://ncalculators.com/statistics/harmonic-mean-calculator.htm"
      ]
    },
    {
      "cell_type": "code",
      "metadata": {
        "id": "lqGYuHBhcsRH",
        "colab_type": "code",
        "outputId": "ae0163d9-900e-400d-9929-47b81f02db89",
        "colab": {
          "base_uri": "https://localhost:8080/",
          "height": 680
        }
      },
      "source": [
        "# Your code here\n",
        "import csv\n",
        "from tabulate import tabulate\n",
        "\n",
        "with open('Assignment1_denton_housing.csv') as csv_file:\n",
        "    csv_reader = csv.reader(csv_file, delimiter=',')\n",
        "    occupance = {}\n",
        "    difference = {}\n",
        "    vacancy = {}\n",
        "    for row in csv_reader:\n",
        "        if row[1] == \"Occupied Housing Units\":\n",
        "           occupance[row[0]] = row[2]\n",
        "    sorted_years = sorted(occupance.keys())\n",
        "    for k,v in enumerate(sorted_years):\n",
        "        if k == 0:\n",
        "           continue\n",
        "        difference[f\"{sorted_years[k-1]}-{sorted_years[k]}\"]=int(occupance[sorted_years[k]]) - int(occupance[sorted_years[k-1]])\n",
        "        \n",
        "    headers = ['consecutive years', 'Occupied Housing Units']\n",
        "    data = sorted([(k,v) for k,v in difference.items()]) # flip the code and name and sort\n",
        "    print(tabulate(data, headers=headers))\n",
        "    print(\"\\nSorted:\\n\")\n",
        "    data = []\n",
        "    for key, value in sorted(difference.items(), key=lambda item: item[1]):\n",
        "       data.append((key,value))\n",
        "    print(tabulate(data, headers=headers))\n",
        "    print(\"\\n\")\n",
        "\n",
        "#2\n",
        "with open('Assignment1_denton_housing.csv') as csv_file:\n",
        "    csv_reader = csv.reader(csv_file, delimiter=',')\n",
        "    total_housing = {}\n",
        "    vacant_housing = {}\n",
        "    vacant_housing_percent = {}\n",
        "    occupied_housing = {}\n",
        "    occupied_housing_percent = {}\n",
        "\n",
        "    for row in csv_reader:\n",
        "        if row[1] == \"Total Housing Units\":\n",
        "           total_housing[row[0]] = int(row[2])\n",
        "        if row[1] == \"Vacant Housing Units\":\n",
        "           vacant_housing[row[0]] = int(row[2])\n",
        "        if row[1] == \"Occupied Housing Units\":\n",
        "           occupied_housing[row[0]] = int(row[2])\n",
        "    for k in total_housing.keys():\n",
        "        vacant_housing_percent[k] = round(((vacant_housing[k]) * 100)/total_housing[k])\n",
        "        occupied_housing_percent[k] = round(((occupied_housing[k]) * 100)/total_housing[k])\n",
        "    headers = ['Year','Vacant Housing Units', 'Occupied Housing Units']\n",
        "    data = sorted([(k,str(vacant_housing_percent[k]) + \"%\",str(occupied_housing_percent[k]) + \"%\") for k in sorted(total_housing.keys())]) # flip the code and name and sort\n",
        "    print(tabulate(data, headers=headers))\n",
        "    print(\"\\n\")\n",
        "\n",
        "#3\n",
        "    most_vacant = list(reversed(sorted(vacant_housing_percent.values())))[0]\n",
        "    most_vacant_key = -1\n",
        "    for (k,v) in vacant_housing_percent.items():\n",
        "      if v == most_vacant:\n",
        "          most_vacant_key = k\n",
        "          break\n",
        "    most_occupied = list(reversed(sorted(occupied_housing_percent.values())))[0]\n",
        "    most_occupied_key = -1\n",
        "    for (k,v) in occupied_housing_percent.items():\n",
        "      if v == most_occupied:\n",
        "          most_occupied_key = k\n",
        "          break\n",
        "\n",
        "    print(tabulate([['Vacant Housing Units', most_vacant_key, most_vacant],['Occupied Housing Units', most_occupied_key, most_occupied]], headers=['','Year', 'Value']))\n",
        "    print(\"\\n\")\n",
        "\n",
        "#4\n",
        "    housing_sum = 0\n",
        "    for v in total_housing.values():\n",
        "      housing_sum += 1/v\n",
        "    harmonic_mean = len(total_housing.values())/housing_sum\n",
        "    print(\"Harmonic Mean: %.4f\" % harmonic_mean)\n",
        "\n",
        "\n",
        "\n",
        "\n"
      ],
      "execution_count": 0,
      "outputs": [
        {
          "output_type": "stream",
          "text": [
            "consecutive years      Occupied Housing Units\n",
            "-------------------  ------------------------\n",
            "2008-2009                                -795\n",
            "2009-2010                                5091\n",
            "2010-2011                                -303\n",
            "2011-2012                                1404\n",
            "2012-2013                                1565\n",
            "2013-2014                                2622\n",
            "\n",
            "Sorted:\n",
            "\n",
            "consecutive years      Occupied Housing Units\n",
            "-------------------  ------------------------\n",
            "2008-2009                                -795\n",
            "2010-2011                                -303\n",
            "2011-2012                                1404\n",
            "2012-2013                                1565\n",
            "2013-2014                                2622\n",
            "2009-2010                                5091\n",
            "\n",
            "\n",
            "  Year  Vacant Housing Units    Occupied Housing Units\n",
            "------  ----------------------  ------------------------\n",
            "  2008  11%                     89%\n",
            "  2009  9%                      91%\n",
            "  2010  8%                      92%\n",
            "  2011  9%                      91%\n",
            "  2012  7%                      93%\n",
            "  2013  9%                      91%\n",
            "  2014  6%                      94%\n",
            "\n",
            "\n",
            "                          Year    Value\n",
            "----------------------  ------  -------\n",
            "Vacant Housing Units      2008       11\n",
            "Occupied Housing Units    2014       94\n",
            "\n",
            "\n",
            "Harmonic Mean: 44398.2854\n"
          ],
          "name": "stdout"
        }
      ]
    }
  ]
}